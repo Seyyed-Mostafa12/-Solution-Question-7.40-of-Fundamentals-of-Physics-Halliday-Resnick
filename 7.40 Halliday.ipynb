{
 "cells": [
  {
   "cell_type": "markdown",
   "metadata": {},
   "source": [
    "<p>\n",
    "40. A can of sardines is made to move along an x-axis from <b>x = 0.25 m</b> to <b>x = 1.25 m</b> by a force with a magnitude given by \n",
    "<code>F = exp(4x<sup>2</sup>)</code>, where <i>x</i> is in meters and <i>F</i> is in newtons. \n",
    "</p>\n",
    "\n",
    "<p>\n",
    "How much work is done on the can by the force?\n",
    "</p>"
   ]
  },
  {
   "cell_type": "code",
   "execution_count": 37,
   "metadata": {},
   "outputs": [],
   "source": [
    "import numpy as np\n",
    "import pandas as pd\n",
    "import matplotlib.pyplot as plt\n",
    "\n",
    "from IPython.display import display, Math, Latex\n",
    "from sympy import symbols, exp, integrate, oo, simplify\n",
    "import sympy as sp\n",
    "\n",
    "plt.rcParams['text.usetex'] = True\n",
    "\n",
    "plt.style.use('seaborn-v0_8')"
   ]
  },
  {
   "cell_type": "markdown",
   "metadata": {},
   "source": [
    "1. With Integrate of sympy (Recommended)"
   ]
  },
  {
   "cell_type": "code",
   "execution_count": 38,
   "metadata": {},
   "outputs": [
    {
     "data": {
      "text/latex": [
       "$\\displaystyle \\frac{\\sqrt{2} \\sqrt{\\pi} \\left(- \\operatorname{erf}{\\left(0.15 \\sqrt{2} \\right)} + \\operatorname{erf}{\\left(1.2 \\sqrt{2} \\right)}\\right)}{4}$"
      ],
      "text/plain": [
       "sqrt(2)*sqrt(pi)*(-erf(0.15*sqrt(2)) + erf(1.2*sqrt(2)))/4"
      ]
     },
     "metadata": {},
     "output_type": "display_data"
    },
    {
     "name": "stdout",
     "output_type": "stream",
     "text": [
      "0.468602928611911 J\n"
     ]
    }
   ],
   "source": [
    "x = sp.symbols('x')\n",
    "func = sp.exp(-2 * x**2)\n",
    "\n",
    "integral = sp.integrate(func, (x, 0.15, 1.2))\n",
    "display(simplify(integral))\n",
    "\n",
    "integral_numeric = integral.evalf()\n",
    "print(f'{integral_numeric} J')"
   ]
  },
  {
   "cell_type": "code",
   "execution_count": 39,
   "metadata": {},
   "outputs": [
    {
     "data": {
      "image/png": "[encoded data removed]",
      "text/plain": [
       "<Figure size 800x550 with 1 Axes>"
      ]
     },
     "metadata": {},
     "output_type": "display_data"
    }
   ],
   "source": [
    "x = np.linspace(0.15, 1.2, 50000)\n",
    "\n",
    "delta_x = x[1] - x[0]\n",
    "\n",
    "data = pd.DataFrame({\n",
    "    'x': x,\n",
    "    'delta_x': [delta_x] * len(x),\n",
    "    'f(x)': np.exp(-2*x**2)\n",
    "    })\n",
    "\n",
    "plt.figure(dpi=100)\n",
    "plt.plot(x, np.exp(-2*x**2), color='green')\n",
    "plt.grid(True)\n",
    "plt.xlabel(r'$x$')\n",
    "plt.ylabel(r'$f(x)$')\n",
    "plt.title(rf'$W: f(x) = \\exp(-2x^2) \\ ; (W: {integral_numeric:.3f} J)$')\n",
    "plt.show()"
   ]
  },
  {
   "cell_type": "code",
   "execution_count": 40,
   "metadata": {},
   "outputs": [
    {
     "name": "stdout",
     "output_type": "stream",
     "text": [
      "W: 0.4686135562244338 J ~ 0.469 J\n"
     ]
    },
    {
     "data": {
      "text/html": [
       "<div>\n",
       "<style scoped>\n",
       "    .dataframe tbody tr th:only-of-type {\n",
       "        vertical-align: middle;\n",
       "    }\n",
       "\n",
       "    .dataframe tbody tr th {\n",
       "        vertical-align: top;\n",
       "    }\n",
       "\n",
       "    .dataframe thead th {\n",
       "        text-align: right;\n",
       "    }\n",
       "</style>\n",
       "<table border=\"1\" class=\"dataframe\">\n",
       "  <thead>\n",
       "    <tr style=\"text-align: right;\">\n",
       "      <th></th>\n",
       "      <th>x</th>\n",
       "      <th>delta_x</th>\n",
       "      <th>f(x)</th>\n",
       "    </tr>\n",
       "  </thead>\n",
       "  <tbody>\n",
       "    <tr>\n",
       "      <th>0</th>\n",
       "      <td>0.150000</td>\n",
       "      <td>0.000021</td>\n",
       "      <td>0.955997</td>\n",
       "    </tr>\n",
       "    <tr>\n",
       "      <th>1</th>\n",
       "      <td>0.150021</td>\n",
       "      <td>0.000021</td>\n",
       "      <td>0.955985</td>\n",
       "    </tr>\n",
       "    <tr>\n",
       "      <th>2</th>\n",
       "      <td>0.150042</td>\n",
       "      <td>0.000021</td>\n",
       "      <td>0.955973</td>\n",
       "    </tr>\n",
       "    <tr>\n",
       "      <th>3</th>\n",
       "      <td>0.150063</td>\n",
       "      <td>0.000021</td>\n",
       "      <td>0.955961</td>\n",
       "    </tr>\n",
       "    <tr>\n",
       "      <th>4</th>\n",
       "      <td>0.150084</td>\n",
       "      <td>0.000021</td>\n",
       "      <td>0.955949</td>\n",
       "    </tr>\n",
       "    <tr>\n",
       "      <th>...</th>\n",
       "      <td>...</td>\n",
       "      <td>...</td>\n",
       "      <td>...</td>\n",
       "    </tr>\n",
       "    <tr>\n",
       "      <th>49995</th>\n",
       "      <td>1.199916</td>\n",
       "      <td>0.000021</td>\n",
       "      <td>0.056157</td>\n",
       "    </tr>\n",
       "    <tr>\n",
       "      <th>49996</th>\n",
       "      <td>1.199937</td>\n",
       "      <td>0.000021</td>\n",
       "      <td>0.056152</td>\n",
       "    </tr>\n",
       "    <tr>\n",
       "      <th>49997</th>\n",
       "      <td>1.199958</td>\n",
       "      <td>0.000021</td>\n",
       "      <td>0.056146</td>\n",
       "    </tr>\n",
       "    <tr>\n",
       "      <th>49998</th>\n",
       "      <td>1.199979</td>\n",
       "      <td>0.000021</td>\n",
       "      <td>0.056140</td>\n",
       "    </tr>\n",
       "    <tr>\n",
       "      <th>49999</th>\n",
       "      <td>1.200000</td>\n",
       "      <td>0.000021</td>\n",
       "      <td>0.056135</td>\n",
       "    </tr>\n",
       "  </tbody>\n",
       "</table>\n",
       "<p>50000 rows × 3 columns</p>\n",
       "</div>"
      ],
      "text/plain": [
       "              x   delta_x      f(x)\n",
       "0      0.150000  0.000021  0.955997\n",
       "1      0.150021  0.000021  0.955985\n",
       "2      0.150042  0.000021  0.955973\n",
       "3      0.150063  0.000021  0.955961\n",
       "4      0.150084  0.000021  0.955949\n",
       "...         ...       ...       ...\n",
       "49995  1.199916  0.000021  0.056157\n",
       "49996  1.199937  0.000021  0.056152\n",
       "49997  1.199958  0.000021  0.056146\n",
       "49998  1.199979  0.000021  0.056140\n",
       "49999  1.200000  0.000021  0.056135\n",
       "\n",
       "[50000 rows x 3 columns]"
      ]
     },
     "execution_count": 40,
     "metadata": {},
     "output_type": "execute_result"
    }
   ],
   "source": [
    "print(f'W: {np.sum(data['f(x)']*data['delta_x'])} J ~ {np.sum(data['f(x)']*data['delta_x']) :.3f} J')\n",
    "data"
   ]
  },
  {
   "cell_type": "markdown",
   "metadata": {},
   "source": [
    "Export 5000 Data to csv file"
   ]
  },
  {
   "cell_type": "code",
   "execution_count": 41,
   "metadata": {},
   "outputs": [],
   "source": [
    "data.to_csv('5000_data.csv', index=False)"
   ]
  }
 ],
 "metadata": {
  "kernelspec": {
   "display_name": "base",
   "language": "python",
   "name": "python3"
  },
  "language_info": {
   "codemirror_mode": {
    "name": "ipython",
    "version": 3
   },
   "file_extension": ".py",
   "mimetype": "text/x-python",
   "name": "python",
   "nbconvert_exporter": "python",
   "pygments_lexer": "ipython3",
   "version": "3.12.7"
  }
 },
 "nbformat": 4,
 "nbformat_minor": 2
}
